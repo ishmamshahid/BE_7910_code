{
 "cells": [
  {
   "cell_type": "markdown",
   "metadata": {},
   "source": [
    "List"
   ]
  },
  {
   "cell_type": "code",
   "execution_count": 1,
   "metadata": {},
   "outputs": [
    {
     "data": {
      "text/plain": [
       "[140, 550, 480]"
      ]
     },
     "execution_count": 1,
     "metadata": {},
     "output_type": "execute_result"
    }
   ],
   "source": [
    "housePrices = [140, 550, 480] \n",
    "housePrices"
   ]
  },
  {
   "cell_type": "code",
   "execution_count": 2,
   "metadata": {},
   "outputs": [
    {
     "data": {
      "text/plain": [
       "[140, 175, 480]"
      ]
     },
     "execution_count": 2,
     "metadata": {},
     "output_type": "execute_result"
    }
   ],
   "source": [
    "#\tUpdate the price of the second element in housePrices to 175: \n",
    "housePrices[1] = 175\n",
    "housePrices"
   ]
  },
  {
   "cell_type": "code",
   "execution_count": 3,
   "metadata": {},
   "outputs": [
    {
     "data": {
      "text/plain": [
       "[140, 175, 480, 260]"
      ]
     },
     "execution_count": 3,
     "metadata": {},
     "output_type": "execute_result"
    }
   ],
   "source": [
    "# •\tAdd a new element to the end of housePrices with a value of 260\n",
    "housePrices.append(260)\n",
    "housePrices"
   ]
  },
  {
   "cell_type": "code",
   "execution_count": 4,
   "metadata": {},
   "outputs": [
    {
     "data": {
      "text/plain": [
       "[175, 480, 260]"
      ]
     },
     "execution_count": 4,
     "metadata": {},
     "output_type": "execute_result"
    }
   ],
   "source": [
    "#Remove the first element from housePrices, using the pop() method: \n",
    "housePrices.pop(0)\n",
    "housePrices"
   ]
  },
  {
   "cell_type": "code",
   "execution_count": 5,
   "metadata": {},
   "outputs": [
    {
     "data": {
      "text/plain": [
       "[175, 260]"
      ]
     },
     "execution_count": 5,
     "metadata": {},
     "output_type": "execute_result"
    }
   ],
   "source": [
    "#•\tRemove 480 from housePrices, using the remove() method: \n",
    "housePrices.remove(480)\n",
    "housePrices"
   ]
  },
  {
   "cell_type": "code",
   "execution_count": 6,
   "metadata": {},
   "outputs": [
    {
     "data": {
      "text/plain": [
       "217.5"
      ]
     },
     "execution_count": 6,
     "metadata": {},
     "output_type": "execute_result"
    }
   ],
   "source": [
    "#average of the list housePrices: \n",
    "\n",
    "sum(housePrices)/len(housePrices)"
   ]
  },
  {
   "cell_type": "code",
   "execution_count": 8,
   "metadata": {},
   "outputs": [
    {
     "data": {
      "text/plain": [
       "[140, 480, 550]"
      ]
     },
     "execution_count": 8,
     "metadata": {},
     "output_type": "execute_result"
    }
   ],
   "source": [
    "housePrices = [140, 550, 480] \n",
    "\n",
    "#sort the list from lower to higher order\n",
    "housePrices.sort(reverse= False)\n",
    "housePrices"
   ]
  },
  {
   "cell_type": "code",
   "execution_count": 12,
   "metadata": {},
   "outputs": [
    {
     "data": {
      "text/plain": [
       "True"
      ]
     },
     "execution_count": 12,
     "metadata": {},
     "output_type": "execute_result"
    }
   ],
   "source": [
    "housePrices[-1] > 300"
   ]
  },
  {
   "cell_type": "markdown",
   "metadata": {},
   "source": [
    "Dictionary"
   ]
  },
  {
   "cell_type": "code",
   "execution_count": 13,
   "metadata": {},
   "outputs": [
    {
     "data": {
      "text/plain": [
       "{'Car Brands': ['Toyota', 'Honda', 'BMW', 'Tesla'],\n",
       " 'Temperatures': [20, 25, 30, 35]}"
      ]
     },
     "execution_count": 13,
     "metadata": {},
     "output_type": "execute_result"
    }
   ],
   "source": [
    "car_brands = [\"Toyota\", \"Honda\", \"BMW\", \"Tesla\"]\n",
    "temperatures = [20, 25, 30, 35]\n",
    "data_dict = {\n",
    "    \"Car Brands\": car_brands,\n",
    "    \"Temperatures\": temperatures,\n",
    "}\n",
    "data_dict"
   ]
  },
  {
   "cell_type": "code",
   "execution_count": 14,
   "metadata": {},
   "outputs": [
    {
     "data": {
      "text/plain": [
       "['Toyota', 'Honda', 'BMW', 'Tesla']"
      ]
     },
     "execution_count": 14,
     "metadata": {},
     "output_type": "execute_result"
    }
   ],
   "source": [
    "data_dict[\"Car Brands\"] "
   ]
  },
  {
   "cell_type": "code",
   "execution_count": 16,
   "metadata": {},
   "outputs": [
    {
     "data": {
      "text/plain": [
       "{'Car Brands': ['Toyota', 'Honda', 'BMW', 'Tesla'],\n",
       " 'Temperatures': [20, 25, 30, 35],\n",
       " 'age': [18, 25, 40, 60]}"
      ]
     },
     "execution_count": 16,
     "metadata": {},
     "output_type": "execute_result"
    }
   ],
   "source": [
    "data_dict[\"age\"] = [18, 25, 40, 60]\n",
    "data_dict"
   ]
  },
  {
   "cell_type": "code",
   "execution_count": 20,
   "metadata": {},
   "outputs": [
    {
     "data": {
      "text/plain": [
       "{'Car Brands': ['Toyota', 'Honda', 'BMW', 'Tesla'],\n",
       " 'Temperatures': [20, 25, 30, 35],\n",
       " 'age': [19, 25, 40, 60]}"
      ]
     },
     "execution_count": 20,
     "metadata": {},
     "output_type": "execute_result"
    }
   ],
   "source": [
    "#del dict[Temperatures] removes the list with key Temperatures\n",
    "data_dict[\"age\"][0] = 19\n",
    "data_dict"
   ]
  },
  {
   "cell_type": "code",
   "execution_count": 19,
   "metadata": {},
   "outputs": [
    {
     "data": {
      "text/plain": [
       "36.0"
      ]
     },
     "execution_count": 19,
     "metadata": {},
     "output_type": "execute_result"
    }
   ],
   "source": [
    "#get the average value of the list age from the dictionary: \n",
    "sum(data_dict[\"age\"])/len(data_dict[\"age\"])"
   ]
  },
  {
   "cell_type": "code",
   "execution_count": 22,
   "metadata": {},
   "outputs": [
    {
     "name": "stdout",
     "output_type": "stream",
     "text": [
      "Selected Car Brands: ['Toyota', 'Honda']\n"
     ]
    }
   ],
   "source": [
    "#This code goes through the list of temperatures, and whenever the temperature is 25 or lower, it picks the \n",
    "# corresponding car brand and adds it to a new list.\n",
    "# Initialize an empty list for selected car brands\n",
    "selected_brands = []\n",
    "\n",
    "# Iterate through the temperatures\n",
    "for index, temp in enumerate(data_dict['Temperatures']):\n",
    "    if temp <= 25:\n",
    "        selected_brands.append(data_dict['Car Brands'][index])\n",
    "\n",
    "# Print the result\n",
    "print(\"Selected Car Brands:\", selected_brands)"
   ]
  },
  {
   "cell_type": "code",
   "execution_count": 23,
   "metadata": {},
   "outputs": [
    {
     "name": "stdout",
     "output_type": "stream",
     "text": [
      "['apple', 'banana', 'mango']\n"
     ]
    }
   ],
   "source": [
    "fruits = [\"apple\", \"banana\", \"cherry\", \"kiwi\", \"mango\"]\n",
    "newlist = [x for x in fruits if \"a\" in x]\n",
    "print(newlist) "
   ]
  },
  {
   "cell_type": "code",
   "execution_count": null,
   "metadata": {},
   "outputs": [],
   "source": []
  },
  {
   "cell_type": "code",
   "execution_count": 24,
   "metadata": {},
   "outputs": [],
   "source": [
    "customer_names = [\"Alice\", \"Bob\", \"Charlie\", \"David\"]\n",
    "customer_satisfaction = [3, 5, 2, 4]\n",
    "product_prices = [19.99, 45.50, 30.00, 89.99]\n",
    "purchase_dates = [\"2023-05-21\", \"2023-06-10\", \"2023-07-15\", \"2023-08-01\"]\n",
    "product_categories = [\"Electronics\", \"Clothing\", \"Furniture\", \"Toys\"]\n",
    "customer_ages = [25, 34, 40, 19]\n",
    "order_quantities = [2, 1, 5, 3]\n",
    "product_ratings = [4.5, 3.8, 4.0, 4.9]"
   ]
  },
  {
   "cell_type": "code",
   "execution_count": 25,
   "metadata": {},
   "outputs": [
    {
     "name": "stdout",
     "output_type": "stream",
     "text": [
      "{'Customer Names': ['Alice', 'Bob', 'Charlie', 'David'], 'Customer Satisfaction Ratings': [3, 5, 2, 4], 'Product Prices (USD)': [19.99, 45.5, 30.0, 89.99], 'Purchase Dates': ['2023-05-21', '2023-06-10', '2023-07-15', '2023-08-01'], 'Product Categories': ['Electronics', 'Clothing', 'Furniture', 'Toys'], 'Customer Ages': [25, 34, 40, 19], 'Order Quantities': [2, 1, 5, 3], 'Product Ratings (out of 5)': [4.5, 3.8, 4.0, 4.9]}\n"
     ]
    }
   ],
   "source": [
    "#Construct a nested dictionary to store the data, with keys representing the category names and \n",
    "# values storing respective lists. Name the dictionary “data_dict”\n",
    "\n",
    "# Creating the nested dictionary\n",
    "data_dict = {\n",
    "    \"Customer Names\": [\"Alice\", \"Bob\", \"Charlie\", \"David\"],\n",
    "    \"Customer Satisfaction Ratings\": [3, 5, 2, 4],\n",
    "    \"Product Prices (USD)\": [19.99, 45.50, 30.00, 89.99],\n",
    "    \"Purchase Dates\": [\"2023-05-21\", \"2023-06-10\", \"2023-07-15\", \"2023-08-01\"],\n",
    "    \"Product Categories\": [\"Electronics\", \"Clothing\", \"Furniture\", \"Toys\"],\n",
    "    \"Customer Ages\": [25, 34, 40, 19],\n",
    "    \"Order Quantities\": [2, 1, 5, 3],\n",
    "    \"Product Ratings (out of 5)\": [4.5, 3.8, 4.0, 4.9]\n",
    "}\n",
    "\n",
    "# Print the dictionary to verify\n",
    "print(data_dict)"
   ]
  },
  {
   "cell_type": "code",
   "execution_count": 26,
   "metadata": {},
   "outputs": [
    {
     "name": "stdout",
     "output_type": "stream",
     "text": [
      "Highest Product Price: $89.99\n",
      "Lowest Product Price: $19.99\n"
     ]
    }
   ],
   "source": [
    "# Find the highest and lowest product prices\n",
    "highest_price = max(data_dict[\"Product Prices (USD)\"])\n",
    "lowest_price = min(data_dict[\"Product Prices (USD)\"])\n",
    "\n",
    "# Print the results\n",
    "print(f\"Highest Product Price: ${highest_price:.2f}\")\n",
    "print(f\"Lowest Product Price: ${lowest_price:.2f}\")"
   ]
  },
  {
   "cell_type": "code",
   "execution_count": 27,
   "metadata": {},
   "outputs": [
    {
     "name": "stdout",
     "output_type": "stream",
     "text": [
      "Average Customer Age: 29.50 years\n"
     ]
    }
   ],
   "source": [
    "#Find the average age of customers\n",
    "\n",
    "average_age = sum(data_dict[\"Customer Ages\"]) / len(data_dict[\"Customer Ages\"])\n",
    "\n",
    "# Print the result\n",
    "print(f\"Average Customer Age: {average_age:.2f} years\")"
   ]
  },
  {
   "cell_type": "code",
   "execution_count": 28,
   "metadata": {},
   "outputs": [
    {
     "name": "stdout",
     "output_type": "stream",
     "text": [
      "No product has a perfect rating (5.0).\n",
      "The highest product rating given by customers is: 4.9\n"
     ]
    }
   ],
   "source": [
    "# Extract product ratings from the dictionary\n",
    "product_ratings = data_dict[\"Product Ratings (out of 5)\"]\n",
    "\n",
    "# Check if any product has a perfect rating\n",
    "has_perfect_rating = 5.0 in data_dict[\"Product Ratings (out of 5)\"]\n",
    "\n",
    "# Find the highest product rating\n",
    "highest_rating = max(data_dict[\"Product Ratings (out of 5)\"])\n",
    "\n",
    "# Print the results\n",
    "if has_perfect_rating:\n",
    "    print(\"There is at least one product with a perfect rating (5.0).\")\n",
    "else:\n",
    "    print(\"No product has a perfect rating (5.0).\")\n",
    "\n",
    "print(f\"The highest product rating given by customers is: {highest_rating}\")\n"
   ]
  },
  {
   "cell_type": "code",
   "execution_count": 29,
   "metadata": {},
   "outputs": [
    {
     "name": "stdout",
     "output_type": "stream",
     "text": [
      "Total Revenue: $505.45\n"
     ]
    }
   ],
   "source": [
    "# Calculate total revenue\n",
    "total_revenue = sum(price * quantity for price, quantity in zip(data_dict[\"Product Prices (USD)\"], data_dict[\"Order Quantities\"]))\n",
    "\n",
    "# Print the result\n",
    "print(f\"Total Revenue: ${total_revenue:.2f}\")"
   ]
  },
  {
   "cell_type": "code",
   "execution_count": 30,
   "metadata": {},
   "outputs": [
    {
     "data": {
      "text/plain": [
       "{'Customer Names': ['Alice', 'Bob', 'Charlie', 'David'],\n",
       " 'Customer Satisfaction Ratings': [3, 5, 2, 4],\n",
       " 'Product Prices (USD)': [19.99, 45.5, 30.0, 89.99],\n",
       " 'Purchase Dates': ['2023-05-21', '2023-06-10', '2023-07-15', '2023-08-01'],\n",
       " 'Product Categories': ['Electronics', 'Clothing', 'Furniture', 'Toys'],\n",
       " 'Customer Ages': [25, 34, 40, 19],\n",
       " 'Order Quantities': [2, 1, 5, 3],\n",
       " 'Product Ratings (out of 5)': [4.5, 3.8, 4.0, 4.9]}"
      ]
     },
     "execution_count": 30,
     "metadata": {},
     "output_type": "execute_result"
    }
   ],
   "source": [
    "data_dict"
   ]
  },
  {
   "cell_type": "code",
   "execution_count": 31,
   "metadata": {},
   "outputs": [
    {
     "name": "stdout",
     "output_type": "stream",
     "text": [
      "Customers with satisfaction rating of 4 or above: ['Bob', 'David']\n"
     ]
    }
   ],
   "source": [
    "# Find customers with satisfaction rating 4 or above\n",
    "satisfied_customers = [customer_names[i] for i in range(len(data_dict[\"Customer Satisfaction Ratings\"])) if data_dict[\"Customer Satisfaction Ratings\"][i] >= 4]\n",
    "\n",
    "# Print the result\n",
    "print(\"Customers with satisfaction rating of 4 or above:\", satisfied_customers)"
   ]
  },
  {
   "cell_type": "code",
   "execution_count": null,
   "metadata": {},
   "outputs": [],
   "source": []
  },
  {
   "cell_type": "code",
   "execution_count": null,
   "metadata": {},
   "outputs": [],
   "source": []
  },
  {
   "cell_type": "code",
   "execution_count": null,
   "metadata": {},
   "outputs": [],
   "source": []
  }
 ],
 "metadata": {
  "kernelspec": {
   "display_name": "base",
   "language": "python",
   "name": "python3"
  },
  "language_info": {
   "codemirror_mode": {
    "name": "ipython",
    "version": 3
   },
   "file_extension": ".py",
   "mimetype": "text/x-python",
   "name": "python",
   "nbconvert_exporter": "python",
   "pygments_lexer": "ipython3",
   "version": "3.12.7"
  }
 },
 "nbformat": 4,
 "nbformat_minor": 2
}
