{
 "cells": [
  {
   "cell_type": "code",
   "execution_count": 1,
   "metadata": {},
   "outputs": [],
   "source": [
    "PassengerId = [2, 4, 7, 11, 12, 22, 24, 28, 53, 55, 63, 67, 76, 89, 93, 97, 98, 103, 111, 119, 124, 125, 137, 138, 140, 149, 152, 171, 175, 178, 184, 194, 195, 196, 206, 210, 216, 219, 225, 231, 246, 249, 252, 253, 258, 263, 264, 269, 270, 274, 276, 292, 293, 298, 300, 306, 308, 310, 311, 312, 319, 320, 326, 328, 330, 332, 333, 337, 338, 340, 341, 342, 346, 357, 367, 370, 371, 378, 391, 394, 395, 413, 430, 431, 435, 436, 439, 446, 450, 453, 454, 457, 461, 463, 474, 485, 487, 488, 493, 497, 499, 505, 506, 513, 516, 517, 521, 524, 537, 540, 541, 545, 551, 557, 559, 572, 573, 578, 582, 584, 586, 588, 592, 600, 610, 619, 622, 626, 628, 631, 633, 642, 646, 648, 660, 663, 672, 680, 682, 690, 691, 699, 700, 701, 702, 708, 711, 713, 716, 717, 718, 725, 731, 738, 742, 743, 746, 749, 752, 760, 764, 766, 773, 780, 782, 783, 790, 797, 803, 807, 810, 821, 824, 836, 854, 858, 863, 868, 872, 873, 880, 888, 890]"
   ]
  },
  {
   "cell_type": "code",
   "execution_count": 3,
   "metadata": {},
   "outputs": [],
   "source": [
    "Pclass=  [1, 1, 1, 3, 1, 2, 1, 1, 1, 1, 1, 2, 3, 1, 1, 1, 1, 1, 1, 1, 2, 1, 1, 1, 1, 2, 1, 1, 1, 1, 2, 2, 1, 1, 3, 1, 1, 1, 1, 1, 1, 1, 3, 1, 1, 1, 1, 1, 1, 1, 1, 1, 2, 1, 1, 1, 1, 1, 1, 1, 1, 1, 1, 2, 1, 1, 1, 1, 1, 1, 2, 1, 2, 1, 1, 1, 1, 1, 1, 1, 3, 1, 3, 1, 1, 1, 1, 1, 1, 1, 1, 1, 1, 1, 2, 1, 1, 1, 1, 1, 1, 1, 1, 1, 1, 2, 1, 1, 1, 1, 1, 1, 1, 1, 1, 1, 1, 1, 1, 1, 1, 1, 1, 1, 1, 2, 1, 1, 1, 1, 1, 1, 1, 1, 1, 1, 1, 1, 1, 1, 1, 1, 3, 1, 1, 1, 1, 1, 3, 1, 2, 1, 1, 1, 1, 1, 1, 1, 3, 1, 1, 1, 2, 1, 1, 1, 1, 1, 1, 1, 1, 1, 3, 1, 1, 1, 1, 1, 1, 1, 1, 1, 1]"
   ]
  },
  {
   "cell_type": "code",
   "execution_count": 4,
   "metadata": {},
   "outputs": [],
   "source": [
    "Survived = [1, 1, 0, 1, 1, 1, 1, 0, 1, 0, 0, 1, 0, 1, 0, 0, 1, 0, 0, 0, 1, 0, 1, 0, 0, 0, 1, 0, 0, 0, 1, 1, 1, 1, 0, 1, 1, 1, 1, 1, 0, 1, 0, 0, 1, 0, 0, 1, 1, 0, 1, 1, 0, 0, 1, 1, 1, 1, 1, 1, 1, 1, 1, 1, 1, 0, 0, 0, 1, 0, 1, 1, 1, 1, 1, 1, 1, 0, 1, 1, 1, 1, 1, 1, 0, 1, 0, 1, 1, 0, 1, 0, 1, 0, 1, 1, 1, 0, 0, 1, 0, 1, 0, 1, 0, 1, 1, 1, 0, 1, 1, 0, 1, 1, 1, 1, 1, 1, 1, 0, 1, 1, 1, 1, 1, 1, 1, 0, 1, 1, 1, 1, 1, 1, 0, 0, 0, 1, 1, 1, 1, 0, 0, 1, 1, 1, 1, 1, 0, 1, 1, 1, 1, 1, 0, 1, 0, 0, 1, 1, 1, 1, 0, 1, 1, 0, 0, 1, 1, 0, 1, 1, 1, 1, 1, 1, 1, 0, 1, 0, 1, 1, 1]"
   ]
  },
  {
   "cell_type": "code",
   "execution_count": 5,
   "metadata": {},
   "outputs": [],
   "source": [
    "Age = [38.0, 35.0, 54.0, 4.0, 58.0, 34.0, 28.0, 19.0, 49.0, 65.0, 45.0, 29.0, 25.0, 23.0, 46.0, 71.0, 23.0, 21.0, 47.0, 24.0, 32.5, 54.0, 19.0, 37.0, 24.0, 36.5, 22.0, 61.0, 56.0, 50.0, 1.0, 3.0, 44.0, 58.0, 2.0, 40.0, 31.0, 32.0, 38.0, 35.0, 44.0, 37.0, 29.0, 62.0, 30.0, 52.0, 40.0, 58.0, 35.0, 37.0, 63.0, 19.0, 36.0, 2.0, 50.0, 0.92, 17.0, 30.0, 24.0, 18.0, 31.0, 40.0, 36.0, 36.0, 16.0, 45.5, 38.0, 29.0, 41.0, 45.0, 2.0, 24.0, 24.0, 22.0, 60.0, 24.0, 25.0, 27.0, 36.0, 23.0, 24.0, 33.0, 32.0, 28.0, 50.0, 14.0, 64.0, 4.0, 52.0, 30.0, 49.0, 65.0, 48.0, 47.0, 23.0, 25.0, 35.0, 58.0, 55.0, 54.0, 25.0, 16.0, 18.0, 36.0, 47.0, 34.0, 30.0, 44.0, 45.0, 22.0, 36.0, 50.0, 17.0, 48.0, 39.0, 53.0, 36.0, 39.0, 39.0, 36.0, 18.0, 60.0, 52.0, 49.0, 40.0, 4.0, 42.0, 61.0, 21.0, 80.0, 32.0, 24.0, 48.0, 56.0, 58.0, 47.0, 31.0, 36.0, 27.0, 15.0, 31.0, 49.0, 42.0, 18.0, 35.0, 42.0, 24.0, 48.0, 19.0, 38.0, 27.0, 27.0, 29.0, 35.0, 36.0, 21.0, 70.0, 19.0, 6.0, 33.0, 36.0, 51.0, 57.0, 43.0, 17.0, 29.0, 46.0, 49.0, 11.0, 39.0, 33.0, 52.0, 27.0, 39.0, 16.0, 51.0, 48.0, 31.0, 47.0, 33.0, 56.0, 19.0, 26.0]"
   ]
  },
  {
   "cell_type": "code",
   "execution_count": 6,
   "metadata": {},
   "outputs": [],
   "source": [
    "SibSp = [1, 1, 0, 1, 0, 0, 0, 3, 1, 0, 1, 0, 0, 3, 1, 0, 0, 0, 0, 0, 0, 0, 0, 1, 0, 0, 1, 0, 0, 0, 2, 1, 0, 0, 0, 0, 1, 0, 1, 1, 2, 1, 1, 0, 0, 1, 0, 0, 0, 0, 1, 1, 0, 1, 0, 1, 1, 0, 0, 2, 0, 1, 0, 0, 0, 0, 0, 1, 0, 0, 1, 3, 0, 0, 1, 0, 1, 0, 1, 1, 0, 1, 0, 0, 1, 1, 1, 0, 0, 0, 1, 0, 0, 0, 0, 1, 1, 0, 0, 1, 1, 0, 1, 0, 0, 0, 0, 0, 0, 0, 0, 1, 0, 1, 1, 2, 0, 1, 1, 0, 0, 1, 1, 1, 0, 2, 1, 0, 0, 0, 0, 0, 1, 0, 0, 0, 1, 0, 0, 0, 1, 1, 0, 1, 0, 0, 0, 1, 0, 0, 0, 1, 0, 0, 1, 2, 1, 1, 0, 0, 1, 1, 0, 0, 1, 0, 0, 0, 1, 0, 1, 1, 0, 1, 0, 0, 0, 0, 1, 0, 0, 0, 0]"
   ]
  },
  {
   "cell_type": "code",
   "execution_count": 7,
   "metadata": {},
   "outputs": [],
   "source": [
    "Parch = [0, 0, 0, 1, 0, 0, 0, 2, 0, 1, 0, 0, 0, 2, 0, 0, 1, 1, 0, 1, 0, 1, 2, 0, 0, 2, 0, 0, 0, 0, 1, 1, 0, 0, 1, 0, 0, 0, 0, 0, 0, 1, 1, 0, 0, 1, 0, 1, 0, 1, 0, 0, 0, 2, 1, 2, 0, 0, 0, 2, 2, 1, 0, 0, 1, 0, 1, 0, 0, 0, 1, 2, 0, 1, 0, 0, 0, 2, 2, 0, 2, 0, 0, 0, 0, 2, 4, 2, 0, 0, 0, 0, 0, 0, 0, 0, 0, 0, 0, 0, 2, 0, 0, 0, 0, 0, 0, 1, 0, 2, 2, 0, 2, 0, 1, 0, 0, 0, 1, 0, 2, 1, 0, 0, 0, 1, 0, 0, 0, 0, 0, 0, 0, 0, 2, 0, 0, 1, 0, 1, 0, 1, 0, 0, 0, 0, 0, 0, 0, 0, 0, 0, 0, 0, 0, 2, 1, 0, 1, 0, 2, 0, 0, 1, 0, 0, 0, 0, 2, 0, 0, 1, 1, 1, 1, 0, 0, 0, 1, 0, 1, 0, 0]"
   ]
  },
  {
   "cell_type": "code",
   "execution_count": 8,
   "metadata": {},
   "outputs": [],
   "source": [
    "Ticket = ['PC 17599', '113803', '17463', 'PP 9549', '113783', '248698', '113788', '19950', 'PC 17572', '113509', '36973', 'C.A. 29395', '348123', '19950', 'W.E.P. 5734', 'PC 17754', 'PC 17759', '35281', '110465', 'PC 17558', '27267', '35281', '11752', '113803', 'PC 17593', '230080', '113776', '111240', '17764', 'PC 17595', '230136', '230080', 'PC 17610', 'PC 17569', '347054', '112277', '35273', '11813', '19943', '36973', '19928', '11751', '347054', '113514', '110152', '110413', '112059', 'PC 17582', 'PC 17760', 'PC 17596', '13502', '11967', 'SC/Paris 2163', '113781', 'PC 17558', '113781', 'PC 17758', 'PC 17485', '11767', 'PC 17608', '36928', '16966', 'PC 17760', '28551', '111361', '113043', 'PC 17582', '113776', '16966', '113784', '230080', '19950', '248733', '113505', '110813', 'PC 17477', '11765', '113503', '113760', '35273', 'PP 9549', '19928', 'SOTON/O.Q. 392078', '110564', '13507', '113760', '19950', '33638', '113786', '113051', '17453', '13509', '19952', '111320', 'SC/AH Basle 541', '11967', '19943', '11771', '113787', '36947', '113781', '110152', 'PC 17758', 'PC 17473', '36967', 'C.A. 34260', '12749', '111361', '113050', '13568', 'WE/P 5735', 'PC 17761', '17421', '11755', '110413', '11769', 'PC 17474', '13507', '17421', '13049', '110413', '13567', '36947', 'PC 17485', 'PC 17582', '230136', '11753', '36963', '13502', '27042', '13214', 'PC 17477', 'PC 17572', '13213', '35273', '5727', 'F.C. 12750', 'PC 17755', 'PC 17572', '24160', '17474', '17421', '348121', 'PC 17757', 'PC 17475', 'PC 17476', 'PC 17482', '19996', '348124', 'PC 17757', '34218', '113806', '24160', 'PC 17755', '19877', 'PC 17608', 'WE/P 5735', '113773', '392096', '110152', '113760', '13502', 'S.O./P.P. 3', '24160', '17474', '113501', 'PC 17593', '17465', '113760', '112050', '113806', '12749', '392096', 'PC 17756', 'PC 17592', '113055', '17466', 'PC 17590', '11751', '695', '11767', '112053', '111369']"
   ]
  },
  {
   "cell_type": "code",
   "execution_count": 9,
   "metadata": {},
   "outputs": [],
   "source": [
    "Fare = [71.2833, 53.1, 51.8625, 16.7, 26.55, 13.0, 35.5, 263.0, 76.7292, 61.9792, 83.475, 10.5, 7.65, 263.0, 61.175, 34.6542, 63.3583, 77.2875, 52.0, 247.5208, 13.0, 77.2875, 26.2833, 53.1, 79.2, 26.0, 66.6, 33.5, 30.6958, 28.7125, 39.0, 26.0, 27.7208, 146.5208, 10.4625, 31.0, 113.275, 76.2917, 90.0, 83.475, 90.0, 52.5542, 10.4625, 26.55, 86.5, 79.65, 0.0, 153.4625, 135.6333, 29.7, 77.9583, 91.0792, 12.875, 151.55, 247.5208, 151.55, 108.9, 56.9292, 83.1583, 262.375, 164.8667, 134.5, 135.6333, 13.0, 57.9792, 28.5, 153.4625, 66.6, 134.5, 35.5, 26.0, 263.0, 13.0, 55.0, 75.25, 69.3, 55.4417, 211.5, 120.0, 113.275, 16.7, 90.0, 8.05, 26.55, 55.9, 120.0, 263.0, 81.8583, 30.5, 27.75, 89.1042, 26.55, 26.55, 38.5, 13.7917, 91.0792, 90.0, 29.7, 30.5, 78.2667, 151.55, 86.5, 108.9, 26.2875, 34.0208, 10.5, 93.5, 57.9792, 26.55, 49.5, 71.0, 106.425, 110.8833, 39.6, 79.65, 51.4792, 26.3875, 55.9, 110.8833, 40.125, 79.65, 79.2, 78.2667, 56.9292, 153.4625, 39.0, 52.5542, 32.3208, 77.9583, 30.0, 30.5, 69.3, 76.7292, 35.5, 113.275, 25.5875, 52.0, 512.3292, 76.7292, 211.3375, 57.0, 110.8833, 7.65, 227.525, 26.2875, 26.2875, 49.5042, 52.0, 7.65, 227.525, 10.5, 53.1, 211.3375, 512.3292, 78.85, 262.375, 71.0, 53.1, 12.475, 86.5, 120.0, 77.9583, 10.5, 211.3375, 57.0, 30.0, 79.2, 25.9292, 120.0, 0.0, 53.1, 93.5, 12.475, 83.1583, 39.4, 26.55, 25.9292, 50.4958, 52.5542, 5.0, 83.1583, 30.0, 30.0]"
   ]
  },
  {
   "cell_type": "code",
   "execution_count": 10,
   "metadata": {},
   "outputs": [],
   "source": [
    "Cabin = ['C85', 'C123', 'E46', 'G6', 'C103', 'D56', 'A6', 'C23 C25 C27', 'D33', 'B30', 'C83', 'F33', 'F G73', 'C23 C25 C27', 'E31', 'A5', 'D10 D12', 'D26', 'C110', 'B58 B60', 'E101', 'D26', 'D47', 'C123', 'B86', 'F2', 'C2', 'B19', 'A7', 'C49', 'F4', 'F2', 'B4', 'B80', 'G6', 'A31', 'D36', 'D15', 'C93', 'C83', 'C78', 'D35', 'G6', 'C87', 'B77', 'E67', 'B94', 'C125', 'C99', 'C118', 'D7', 'B49', 'D', 'C22 C26', 'B58 B60', 'C22 C26', 'C65', 'E36', 'C54', 'B57 B59 B63 B66', 'C7', 'E34', 'C32', 'D', 'B18', 'C124', 'C91', 'C2', 'E40', 'T', 'F2', 'C23 C25 C27', 'F33', 'E33', 'D37', 'B35', 'E50', 'C82', 'B96 B98', 'D36', 'G6', 'C78', 'E10', 'C52', 'E44', 'B96 B98', 'C23 C25 C27', 'A34', 'C104', 'C111', 'C92', 'E38', 'E12', 'E63', 'D', 'B49', 'C93', 'B37', 'C30', 'D20', 'C22 C26', 'B79', 'C65', 'E25', 'D46', 'F33', 'B73', 'B18', 'B38', 'B39', 'B22', 'C86', 'C70', 'A16', 'E67', 'C101', 'E25', 'E44', 'C68', 'A10', 'E68', 'B41', 'D20', 'A20', 'C125', 'F4', 'D19', 'D50', 'D9', 'A23', 'B50', 'B35', 'D33', 'A26', 'D48', 'E58', 'B71', 'B51 B53 B55', 'D49', 'B5', 'B20', 'C68', 'F G63', 'C62 C64', 'E24', 'E24', 'C90', 'C126', 'F G73', 'C45', 'E101', 'E8', 'B5', 'B101', 'C46', 'B57 B59 B63 B66', 'B22', 'D30', 'E121', 'B77', 'B96 B98', 'D11', 'E77', 'B3', 'B20', 'D6', 'B82 B84', 'D17', 'B96 B98', 'A36', 'E8', 'B69', 'E121', 'E49', 'D28', 'E17', 'D17', 'A24', 'D35', 'B51 B53 B55', 'C50', 'B42', 'C148']"
   ]
  },
  {
   "cell_type": "code",
   "execution_count": 11,
   "metadata": {},
   "outputs": [],
   "source": [
    "Embarked = ['C', 'S', 'S', 'S', 'S', 'S', 'S', 'S', 'C', 'C', 'S', 'S', 'S', 'S', 'S', 'C', 'C', 'S', 'S', 'C', 'S', 'S', 'S', 'S', 'C', 'S', 'S', 'S', 'C', 'C', 'S', 'S', 'C', 'C', 'S', 'C', 'C', 'C', 'S', 'S', 'Q', 'S', 'S', 'S', 'S', 'S', 'S', 'S', 'S', 'C', 'S', 'C', 'C', 'S', 'C', 'S', 'C', 'C', 'C', 'C', 'S', 'C', 'C', 'S', 'C', 'S', 'S', 'S', 'C', 'S', 'S', 'S', 'S', 'S', 'C', 'C', 'C', 'C', 'S', 'C', 'S', 'Q', 'S', 'S', 'S', 'S', 'S', 'S', 'S', 'C', 'C', 'S', 'S', 'S', 'C', 'C', 'S', 'C', 'S', 'C', 'S', 'S', 'C', 'S', 'S', 'S', 'S', 'C', 'S', 'C', 'S', 'C', 'C', 'C', 'S', 'S', 'S', 'S', 'C', 'C', 'S', 'C', 'C', 'C', 'S', 'S', 'S', 'S', 'S', 'S', 'C', 'C', 'C', 'C', 'C', 'S', 'S', 'C', 'C', 'S', 'S', 'C', 'S', 'C', 'S', 'S', 'C', 'S', 'S', 'C', 'S', 'S', 'S', 'C', 'S', 'C', 'S', 'S', 'S', 'S', 'S', 'S', 'S', 'S', 'S', 'S', 'C', 'S', 'S', 'S', 'S', 'S', 'S', 'C', 'S', 'S', 'S', 'S', 'S', 'S', 'C', 'S', 'C']"
   ]
  },
  {
   "cell_type": "markdown",
   "metadata": {},
   "source": [
    "Construct a nested dictionary to store the data, with keys representing the category names and values storing respective lists. Name the dictionary titanic_data."
   ]
  },
  {
   "cell_type": "code",
   "execution_count": 62,
   "metadata": {},
   "outputs": [],
   "source": [
    "titanic_data = {\"survival\" : Survived, \"Pclass\": Pclass, \"age\" : Age, \"SibSp\": SibSp, \"parch\" : Parch, \"ticket\": Ticket, \"PassengerId\": PassengerId,\n",
    "\"fare\": Fare, \"cabin\": Cabin, \"Embarked\": Embarked}"
   ]
  },
  {
   "cell_type": "code",
   "execution_count": 14,
   "metadata": {},
   "outputs": [
    {
     "data": {
      "text/plain": [
       "dict"
      ]
     },
     "execution_count": 14,
     "metadata": {},
     "output_type": "execute_result"
    }
   ],
   "source": [
    "type(titanic_data)"
   ]
  },
  {
   "cell_type": "markdown",
   "metadata": {},
   "source": [
    "•\tFind and print the age of the oldest and youngest passenger."
   ]
  },
  {
   "cell_type": "code",
   "execution_count": 16,
   "metadata": {},
   "outputs": [
    {
     "name": "stdout",
     "output_type": "stream",
     "text": [
      "Oldest age: 80.0\n",
      "Youngest age: 0.92\n"
     ]
    }
   ],
   "source": [
    "print(f\"Oldest age: {max(titanic_data[\"age\"])}\")\n",
    "print(f\"Youngest age: {min(titanic_data[\"age\"])}\")"
   ]
  },
  {
   "cell_type": "markdown",
   "metadata": {},
   "source": [
    "•\tCompute the average fare paid."
   ]
  },
  {
   "cell_type": "code",
   "execution_count": 17,
   "metadata": {},
   "outputs": [
    {
     "name": "stdout",
     "output_type": "stream",
     "text": [
      "Average fare: 78.68246885245901\n"
     ]
    }
   ],
   "source": [
    "print(f\"Average fare: {sum(titanic_data[\"fare\"]) / len(titanic_data[\"fare\"])}\")"
   ]
  },
  {
   "cell_type": "markdown",
   "metadata": {},
   "source": [
    "•\tCalculate the survival rate (percentage of passengers who survived)."
   ]
  },
  {
   "cell_type": "code",
   "execution_count": 25,
   "metadata": {},
   "outputs": [],
   "source": [
    "survived_passengers = []\n",
    "for passenger in titanic_data[\"survival\"]:\n",
    "    if passenger ==1:\n",
    "        survived_passengers.append(passenger)"
   ]
  },
  {
   "cell_type": "code",
   "execution_count": 32,
   "metadata": {},
   "outputs": [
    {
     "name": "stdout",
     "output_type": "stream",
     "text": [
      "Percent of survived passengers:\n",
      "67.21311475409836\n"
     ]
    }
   ],
   "source": [
    "print(\"Percent of survived passengers:\")\n",
    "print(len(survived_passengers) / len(titanic_data[\"survival\"]) * 100)"
   ]
  },
  {
   "cell_type": "markdown",
   "metadata": {},
   "source": [
    "•\tRetrieve all passengerId who traveled in 1st class."
   ]
  },
  {
   "cell_type": "code",
   "execution_count": 39,
   "metadata": {},
   "outputs": [
    {
     "name": "stdout",
     "output_type": "stream",
     "text": [
      "passengerId who traveled in 1st class: [1, 1, 1, 1, 1, 1, 1, 1, 1, 1, 1, 1, 1, 1, 1, 1, 1, 1, 1, 1, 1, 1, 1, 1, 1, 1, 1, 1, 1, 1, 1, 1, 1, 1, 1, 1, 1, 1, 1, 1, 1, 1, 1, 1, 1, 1, 1, 1, 1, 1, 1, 1, 1, 1, 1, 1, 1, 1, 1, 1, 1, 1, 1, 1, 1, 1, 1, 1, 1, 1, 1, 1, 1, 1, 1, 1, 1, 1, 1, 1, 1, 1, 1, 1, 1, 1, 1, 1, 1, 1, 1, 1, 1, 1, 1, 1, 1, 1, 1, 1, 1, 1, 1, 1, 1, 1, 1, 1, 1, 1, 1, 1, 1, 1, 1, 1, 1, 1, 1, 1, 1, 1, 1, 1, 1, 1, 1, 1, 1, 1, 1, 1, 1, 1, 1, 1, 1, 1, 1, 1, 1, 1, 1, 1, 1, 1, 1, 1, 1, 1, 1, 1, 1, 1, 1, 1, 1, 1]\n"
     ]
    }
   ],
   "source": [
    "print(\"passengerId who traveled in 1st class:\", [titanic_data[\"Pclass\"][i] for i in range(len(titanic_data[\"Pclass\"])) if titanic_data[\"Pclass\"][i] == 1])"
   ]
  },
  {
   "cell_type": "code",
   "execution_count": 41,
   "metadata": {},
   "outputs": [
    {
     "name": "stdout",
     "output_type": "stream",
     "text": [
      "158\n"
     ]
    }
   ],
   "source": [
    "print(len([titanic_data[\"Pclass\"][i] for i in range(len(titanic_data[\"Pclass\"])) if titanic_data[\"Pclass\"][i] == 1]))"
   ]
  },
  {
   "cell_type": "markdown",
   "metadata": {},
   "source": [
    "•\tIdentify the port with the highest number of passengers embarked."
   ]
  },
  {
   "cell_type": "code",
   "execution_count": 47,
   "metadata": {},
   "outputs": [
    {
     "name": "stdout",
     "output_type": "stream",
     "text": [
      "Embark counts\n",
      "{'C': 65, 'S': 116, 'Q': 2}\n",
      "---------------------\n",
      "Most common port\n",
      "S\n"
     ]
    }
   ],
   "source": [
    "embark_counts = {}\n",
    "for port in titanic_data[\"Embarked\"]:\n",
    "    embark_counts[port] = embark_counts.get(port, 0) + 1\n",
    "\n",
    "# Identify the port with the highest number of passengers\n",
    "most_common_port = max(embark_counts, key=embark_counts.get)\n",
    "\n",
    "print(\"Embark counts\")\n",
    "print(embark_counts)\n",
    "print(\"---------------------\")\n",
    "print(\"Most common port\")\n",
    "print(most_common_port)"
   ]
  },
  {
   "cell_type": "markdown",
   "metadata": {},
   "source": [
    "•\tWrite a function that takes a list of numerical values (like ages or fares) as input and returns the maximum, minimum, and average values."
   ]
  },
  {
   "cell_type": "code",
   "execution_count": 50,
   "metadata": {},
   "outputs": [
    {
     "name": "stdout",
     "output_type": "stream",
     "text": [
      "Max, min, and avg age\n",
      "(80.0, 0.92, 35.6744262295082)\n",
      "-------------------------------------\n",
      "Max, min, and avg fare\n",
      "(512.3292, 0.0, 78.68246885245901)\n"
     ]
    }
   ],
   "source": [
    "def max_min_ave(any_list):\n",
    "\n",
    "    maximum = max(any_list)\n",
    "    minimum = min(any_list)\n",
    "    ave = sum(any_list) / len(any_list)\n",
    "\n",
    "    return maximum, minimum, ave\n",
    "\n",
    "print(\"Max, min, and avg age\")\n",
    "print(max_min_ave(titanic_data[\"age\"]))\n",
    "print(\"-------------------------------------\")\n",
    "print(\"Max, min, and avg fare\")\n",
    "print(max_min_ave(titanic_data[\"fare\"]))\n",
    "\n"
   ]
  },
  {
   "cell_type": "markdown",
   "metadata": {},
   "source": [
    "•\tWrite a function that takes a passengerId as input and returns whether they survived or not."
   ]
  },
  {
   "cell_type": "code",
   "execution_count": 63,
   "metadata": {},
   "outputs": [],
   "source": [
    "def enterID_survive(ID, data):\n",
    "    passenger_ids = data.get('PassengerId', [])\n",
    "    survival_data = data.get('survival', [])\n",
    "\n",
    "    if ID in passenger_ids:\n",
    "        index = passenger_ids.index(ID)\n",
    "        return \"Survived\" if survival_data[index] == 1 else \"Did not survive\"\n",
    "    else:\n",
    "        return \"Invalid Passenger ID\"\n"
   ]
  },
  {
   "cell_type": "code",
   "execution_count": 65,
   "metadata": {},
   "outputs": [
    {
     "data": {
      "text/plain": [
       "'Survived'"
      ]
     },
     "execution_count": 65,
     "metadata": {},
     "output_type": "execute_result"
    }
   ],
   "source": [
    "enterID_survive(4, titanic_data)"
   ]
  },
  {
   "cell_type": "code",
   "execution_count": 67,
   "metadata": {},
   "outputs": [
    {
     "data": {
      "text/plain": [
       "'Did not survive'"
      ]
     },
     "execution_count": 67,
     "metadata": {},
     "output_type": "execute_result"
    }
   ],
   "source": [
    "enterID_survive(873, titanic_data)"
   ]
  },
  {
   "cell_type": "code",
   "execution_count": 68,
   "metadata": {},
   "outputs": [
    {
     "data": {
      "text/plain": [
       "'Survived'"
      ]
     },
     "execution_count": 68,
     "metadata": {},
     "output_type": "execute_result"
    }
   ],
   "source": [
    "enterID_survive(880, titanic_data)"
   ]
  },
  {
   "cell_type": "markdown",
   "metadata": {},
   "source": [
    "•\tWrite a function that takes a fare threshold as input and computes the average survival rate for passengers who paid more than the threshold."
   ]
  },
  {
   "cell_type": "code",
   "execution_count": 72,
   "metadata": {},
   "outputs": [],
   "source": [
    "def average_survival_rate_above_fare(fare_threshold, data):\n",
    "    \n",
    "    survival_data = data.get('survival', [])\n",
    "\n",
    "    fares = data.get('fare', [])\n",
    "\n",
    "    # Filter passengers who paid more than the threshold\n",
    "    survival_filtered = [survival_data[i] for i in range(len(fares)) if fares[i] > fare_threshold]\n",
    "\n",
    "    if not survival_filtered:\n",
    "        return 0.0  # No passengers paid more than the threshold\n",
    "\n",
    "    # Compute the average survival rate\n",
    "    avg_survival_rate = sum(survival_filtered) / len(survival_filtered)\n",
    "\n",
    "    return avg_survival_rate"
   ]
  },
  {
   "cell_type": "code",
   "execution_count": 73,
   "metadata": {},
   "outputs": [
    {
     "data": {
      "text/plain": [
       "0.7321428571428571"
      ]
     },
     "execution_count": 73,
     "metadata": {},
     "output_type": "execute_result"
    }
   ],
   "source": [
    "average_survival_rate_above_fare(50, titanic_data)"
   ]
  },
  {
   "cell_type": "code",
   "execution_count": 77,
   "metadata": {},
   "outputs": [
    {
     "data": {
      "text/plain": [
       "0.6875"
      ]
     },
     "execution_count": 77,
     "metadata": {},
     "output_type": "execute_result"
    }
   ],
   "source": [
    "average_survival_rate_above_fare(20, titanic_data)"
   ]
  },
  {
   "cell_type": "code",
   "execution_count": 76,
   "metadata": {},
   "outputs": [
    {
     "data": {
      "text/plain": [
       "1.0"
      ]
     },
     "execution_count": 76,
     "metadata": {},
     "output_type": "execute_result"
    }
   ],
   "source": [
    "average_survival_rate_above_fare(500, titanic_data)"
   ]
  },
  {
   "cell_type": "code",
   "execution_count": null,
   "metadata": {},
   "outputs": [],
   "source": []
  }
 ],
 "metadata": {
  "kernelspec": {
   "display_name": "base",
   "language": "python",
   "name": "python3"
  },
  "language_info": {
   "codemirror_mode": {
    "name": "ipython",
    "version": 3
   },
   "file_extension": ".py",
   "mimetype": "text/x-python",
   "name": "python",
   "nbconvert_exporter": "python",
   "pygments_lexer": "ipython3",
   "version": "3.12.7"
  }
 },
 "nbformat": 4,
 "nbformat_minor": 2
}
